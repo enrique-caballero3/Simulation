{
 "cells": [
  {
   "cell_type": "code",
   "execution_count": 1,
   "id": "d22deff3-02a0-4d41-9789-91fcb56a9d7a",
   "metadata": {},
   "outputs": [
    {
     "name": "stdout",
     "output_type": "stream",
     "text": [
      "The notebook is running in: /Users/enriquecaballero/Documents/Python\n"
     ]
    }
   ],
   "source": [
    "import os\n",
    "# Current working directory\n",
    "notebook_directory = os.getcwd()\n",
    "print(f\"The notebook is running in: {notebook_directory}\")"
   ]
  },
  {
   "cell_type": "code",
   "execution_count": 2,
   "id": "2e5ba944-9ab3-466f-bd27-bf7e2e3fdebd",
   "metadata": {},
   "outputs": [
    {
     "name": "stdout",
     "output_type": "stream",
     "text": [
      "0\n"
     ]
    }
   ],
   "source": [
    "# Initialize a vector of zeroes\n",
    "import numpy\n",
    "import random\n",
    "nran = 100000\n",
    "r_draw = numpy.zeros(nran, dtype='i')\n",
    "#print as integer\n",
    "#print(x.astype(int))\n",
    "print(r_draw[1])"
   ]
  },
  {
   "cell_type": "code",
   "execution_count": 3,
   "id": "e17d95c8-e978-46fd-8aaf-4c8caa5dac63",
   "metadata": {},
   "outputs": [
    {
     "name": "stdout",
     "output_type": "stream",
     "text": [
      "29\n"
     ]
    }
   ],
   "source": [
    "# Populating an array in different ways can have different results\n",
    "# 1. Define an array as real => numbers can go close to the upper limit\n",
    "# 2. Define an array as integer => The highest number is omitted as only the integer part is retained\n",
    "# 3. Define as a list, cannot do histogram\n",
    "#\n",
    "random.seed(a=121, version=2)\n",
    "nran = 100000\n",
    "r_draw = numpy.arange(0, nran)\n",
    "#\n",
    "# Fair Roulette: Wheel has slots from 1 to 36\n",
    "for x in range(nran):\n",
    "    r_draw[x] = random.uniform(1, 37)\n",
    "#\n",
    "# Created an array of size nran. Note that indexing is from 0 to nran-1\n",
    "print(r_draw[nran - 1])"
   ]
  },
  {
   "cell_type": "code",
   "execution_count": 4,
   "id": "5e984bd2-2177-4e94-8d20-b687c99c92e5",
   "metadata": {},
   "outputs": [
    {
     "data": {
      "image/png": "[encoded data removed]",
      "text/plain": [
       "<Figure size 640x480 with 1 Axes>"
      ]
     },
     "metadata": {},
     "output_type": "display_data"
    }
   ],
   "source": [
    "import matplotlib.pyplot as plt\n",
    "#\n",
    "# Plotting a histogram\n",
    "_ = plt.hist(r_draw, bins=36)  # arguments are passed to np.histogram\n",
    "plt.title(\"Histogram with 36 bins\")\n",
    "plt.show()"
   ]
  },
  {
   "cell_type": "code",
   "execution_count": 14,
   "id": "ad81f1f5-4866-4334-b30c-1e3e84b98d0c",
   "metadata": {},
   "outputs": [
    {
     "name": "stdout",
     "output_type": "stream",
     "text": [
      "Fair Roulette\n",
      "-0.007\n",
      "Profit/Loss -0.007\n",
      "win_average & Std Dev -0.0071 5.8956\n",
      "bands 0.0365\n",
      "Confidence Interval\n",
      "-0.0436 0.0294\n"
     ]
    }
   ],
   "source": [
    "# Fair Roulette\n",
    "win_lose = numpy.zeros(nran, dtype='i')\n",
    "bet = 2\n",
    "for x in range(nran):\n",
    "    if bet == r_draw[x]:\n",
    "        win_lose[x] = 35\n",
    "    else:\n",
    "        win_lose[x] = -1\n",
    "#\n",
    "# Calculate the total win/loss\n",
    "win_total = sum(win_lose)\n",
    "print('Fair Roulette')\n",
    "win_pl = round(win_total / nran, 3)\n",
    "print(win_pl)\n",
    "print('Profit/Loss', win_pl)\n",
    "#\n",
    "# Calculate the average and standard deviation\n",
    "win_average = round(numpy.mean(win_lose), 4)\n",
    "win_sd = round(numpy.std(win_lose), 4)\n",
    "print('win_average & Std Dev', win_average, win_sd)\n",
    "#\n",
    "# Calculate confidence interval bands\n",
    "bands = round(1.96 * win_sd / (nran**0.5), 4)\n",
    "print('bands', bands)\n",
    "#\n",
    "# Calculate the confidence interval\n",
    "ci_low = round(win_average - bands, 4)\n",
    "ci_high = round(win_average + bands, 4)\n",
    "print('Confidence Interval')\n",
    "print(ci_low, ci_high)"
   ]
  },
  {
   "cell_type": "code",
   "execution_count": 6,
   "id": "ed6ea884-d7c1-4524-8d3a-c564f23a0a64",
   "metadata": {},
   "outputs": [
    {
     "name": "stdout",
     "output_type": "stream",
     "text": [
      "Unfair Roulette\n",
      "-0.038\n",
      "Profit/Loss -0.038\n",
      "win_average & Std Dev -0.04 5.8055\n",
      "bands 0.036\n",
      "Confidence Interval\n",
      "-0.076 -0.004\n"
     ]
    }
   ],
   "source": [
    "# Un-Fair Roulette: Wheel has slots from 1 to 37\n",
    "random.seed(a=121, version=2)\n",
    "r_draw_UF = numpy.arange(0, nran)\n",
    "for x in range(nran):\n",
    "    r_draw_UF[x] = random.uniform(1, 38)\n",
    "win_lose_UF = numpy.zeros(nran, dtype='i')\n",
    "bet = 2\n",
    "for x in range(nran):\n",
    "    if bet == r_draw_UF[x]:\n",
    "        win_lose_UF[x] = 35\n",
    "    else:\n",
    "        win_lose_UF[x] = -1\n",
    "#\n",
    "# Calculate the total win/loss\n",
    "win_total = sum(win_lose_UF)\n",
    "print('Unfair Roulette')\n",
    "win_pl = round(win_total / nran, 3)\n",
    "print(win_pl)\n",
    "print('Profit/Loss', win_pl)\n",
    "#\n",
    "# Calculate the average and standard deviation\n",
    "win_average = round(numpy.mean(win_lose_UF), 2)\n",
    "win_sd = round(numpy.std(win_lose_UF), 4)\n",
    "print('win_average & Std Dev', win_average, win_sd)\n",
    "#\n",
    "# Calculate confidence interval bands\n",
    "bands = round(1.96 * win_sd / (nran**0.5), 4)\n",
    "print('bands', bands)\n",
    "#\n",
    "# Calculate the confidence interval\n",
    "ci_low = round(win_average - bands, 4)\n",
    "ci_high = round(win_average + bands, 4)\n",
    "print('Confidence Interval')\n",
    "print(ci_low, ci_high)"
   ]
  },
  {
   "cell_type": "code",
   "execution_count": null,
   "id": "19514e95-4ff5-4464-9094-97f999d0d757",
   "metadata": {},
   "outputs": [],
   "source": []
  }
 ],
 "metadata": {
  "kernelspec": {
   "display_name": "Python 3 (ipykernel)",
   "language": "python",
   "name": "python3"
  },
  "language_info": {
   "codemirror_mode": {
    "name": "ipython",
    "version": 3
   },
   "file_extension": ".py",
   "mimetype": "text/x-python",
   "name": "python",
   "nbconvert_exporter": "python",
   "pygments_lexer": "ipython3",
   "version": "3.12.4"
  }
 },
 "nbformat": 4,
 "nbformat_minor": 5
}
